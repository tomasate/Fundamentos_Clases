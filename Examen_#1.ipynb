{
  "cells": [
    {
      "cell_type": "markdown",
      "metadata": {
        "id": "SIcr5E4ABUkT"
      },
      "source": [
        "# Exámen 1:\n",
        "*Agosto 05 / 2023*  \n",
        "\n",
        "Presentado por:\n",
        "\n",
        "*   Sara Durango - CC 1152442960\n",
        "*   Andrés Coneo - CC 1065007191\n",
        "*   Cristian Caballero - CC 1013660464"
      ]
    },
    {
      "cell_type": "markdown",
      "metadata": {
        "id": "7vGMRorix7fJ"
      },
      "source": [
        "# **Prueba \\#1**\n",
        "\n",
        "En la siguiente pureba se evalua de manera EXCLUSIVA lo que se solicita, cualquier otra respuesta adicional a ella será valorada, más no evaluada. Entregue la prueba en un repositorio de github antes de el lunes 7 de agosto a las 23:59:59.\n",
        "\n"
      ]
    },
    {
      "cell_type": "markdown",
      "metadata": {
        "id": "2JiTz8I9yhXB"
      },
      "source": [
        "## **Ejercicio 1** (50 pts)\n",
        "\n",
        "Escriba una clase `Pedido` que pueda ser usada para gestionar la información de los pedidos realizados a una pastelería (o carnicería o tienda de ropa o empresa que ud desee). Evite usar módulos como numpy, pandas o cualquier otro.\n",
        "\n",
        "### **Rubrica**:\n",
        "\n",
        "1. Generación de la clase que funcione correctamente con al menos 2 métodos y 2 atributos. **30 pts**.\n",
        "2. Comentarios y  documentación que sirva para quien deba usar la clase. **5 pts**.\n",
        "3. Pertinencia de la clase en el ámbito, ¿Por qué será útil esta herramienta y cómo ayudará a mejorar el negocio? esta será entregada en una celda de texto. **10 pts**.\n",
        "4. ¿Cree que se pueda construir una clase hija que ayude al proceso? Si sí constrúyala, sino, argumente por qué en una célda de código. **5 pts**."
      ]
    },
    {
      "cell_type": "markdown",
      "source": [
        "#R/#\n",
        "**1.1** y **1.2**"
      ],
      "metadata": {
        "id": "V7kGm_7repi9"
      }
    },
    {
      "cell_type": "code",
      "execution_count": 35,
      "metadata": {
        "colab": {
          "base_uri": "https://localhost:8080/"
        },
        "id": "AgwS8cBnx5Zc",
        "outputId": "a297036c-28af-4b34-e290-2ab82fdc9f3a"
      },
      "outputs": [
        {
          "output_type": "stream",
          "name": "stdout",
          "text": [
            "Code: C001, Description: Pastel de Chocolate, Quantity: 2, Unit Price: 13.200, Total: 13.200\n",
            "Code: C002, Description: Torta de Fresa, Quantity: 1, Unit Price: 8.400, Total: 8.400\n"
          ]
        }
      ],
      "source": [
        "# Construimos la clase. Inicializamos los atributos del objeto \"Pedido\".\n",
        "class Pedido:\n",
        "    def __init__(self, code: int, description: str, quantity: int, unit_price: float):\n",
        "        self.code = code\n",
        "        self.description = description\n",
        "        self.quantity = quantity\n",
        "        self.unit_price = unit_price\n",
        "\n",
        "# Médoto 1: Calculamos el valor total del pedido multiplicando la cantidad del pedido por el precio unitario.\n",
        "    def calculate_total(self):\n",
        "        return self.quantity * self.unit_price\n",
        "\n",
        "# Método2: Hacemos una representación en cadena del objeto \"Pedido\". Es útil para imprimir información legible sobre éste.\n",
        "    def __str__(self):\n",
        "        return f\"Code: {self.code}, Description: {self.description}, Quantity: {self.quantity}, Unit Price: {self.unit_price:.3f}, Total: {self.unit_price:.3f}\"\n",
        "\n",
        "# Ejemplo : Uso de la clase \"Pedido\"\n",
        "pedido1 = Pedido(code=\"C001\", description=\"Pastel de Chocolate\", quantity=2, unit_price=13.200)\n",
        "pedido2 = Pedido(code=\"C002\", description=\"Torta de Fresa\", quantity=1, unit_price=8.400)\n",
        "\n",
        "print(pedido1)\n",
        "print(pedido2)\n",
        "\n"
      ]
    },
    {
      "cell_type": "markdown",
      "metadata": {
        "id": "l4KDFF_vz3n-"
      },
      "source": [
        "**1.3** La clase permite determinar fácilmente el total de la venta tomando como punto de partida la cantidad de productos, respecto al precio unitario, lo que permite tener un total acumulado de ingresos de venta por categoría.\n",
        "\n",
        "Adicionalmente, la clase de presentación en cadena del objeto permite facilitar la impresión, que podría ser utilizada como estructura para facturación y reportes requeridos."
      ]
    },
    {
      "cell_type": "markdown",
      "metadata": {
        "id": "7JhbY51BjeGz"
      },
      "source": [
        "**1.4** Se puede construir una clase hija que permita profundizar en momentos especiales para la tienda, como épocas de descuento. Donde la clase hija permita identificar los descuentos aplicados a un producto y el precio de venta después de éste. De este modo, la compañía podría conocer la distribución financiera de los descuentos aplicados por producto y su ingreso neto.\n",
        "\n",
        "*A continuación la clase hija:*"
      ]
    },
    {
      "cell_type": "code",
      "execution_count": 29,
      "metadata": {
        "colab": {
          "base_uri": "https://localhost:8080/"
        },
        "id": "cC_KroSdkY9S",
        "outputId": "3422db63-c553-407e-9376-c5cb574a13ff"
      },
      "outputs": [
        {
          "output_type": "stream",
          "name": "stdout",
          "text": [
            "Tiene un 15% de descuento. Precio total a cobrar: $56.100\n"
          ]
        }
      ],
      "source": [
        "# Se crea la clase y se describen los atributos del objeto \"Pedido\".\n",
        "class Pedido:\n",
        "    def __init__(self, code: str, description: str, quantity: int, unit_price: float):\n",
        "        self.code = code\n",
        "        self.description = description\n",
        "        self.quantity = quantity\n",
        "        self.unit_price = unit_price\n",
        "\n",
        "# Se hereda de la clase \"Pedido\" y adiciona el atributo descuento.\n",
        "class SalesOrder(Pedido):\n",
        "    def __init__(self, code: str, description: str, quantity: int, unit_price: float, discount: float):\n",
        "        super().__init__(code, description, quantity, unit_price)\n",
        "        self.discount = discount\n",
        "\n",
        "# Se calcula el precio total considerando la cantidad, el precio unitario y el descuento.\n",
        "    def calculate_total_price(self) -> float:\n",
        "        subtotal = self.quantity * self.unit_price\n",
        "        discount_amount = subtotal * (self.discount / 100)\n",
        "        total_price = subtotal - discount_amount\n",
        "        return total_price\n",
        "\n",
        "# Se crea el objeto del pedido de venta.\n",
        "sales_order = SalesOrder(code=\"C001\", description=\"Pastel de Chocolate\", quantity=5, unit_price=13.200, discount=15)\n",
        "\n",
        "# Se calcula y se muestra el precio total con descuento.\n",
        "total_price = sales_order.calculate_total_price()\n",
        "print(f\"Tiene un 15% de descuento. Precio total a cobrar: ${total_price:.3f}\")\n",
        "\n"
      ]
    },
    {
      "cell_type": "markdown",
      "metadata": {
        "id": "pnfosm2l12c5"
      },
      "source": [
        "## **Ejercicio 2** (50 pts)\n",
        "\n",
        "Realice los siguientes ejercicios con numpy\n",
        "\n",
        "1. Resolver el siguiente sistema de ecuaciones. **16 pts**\n",
        "\n",
        "$$\n",
        "2x + 3y - z + 4w + 5v = 15\n",
        "$$\n",
        "\n",
        "$$\n",
        "x - 2y + 4z - 3w + v = 6\n",
        "$$\n",
        "\n",
        "$$\n",
        "3x + 2y - 3z + 5w - 2v = 11\n",
        "$$\n",
        "\n",
        "$$\n",
        "4x + y - 2z + 3w + 2v = 8\n",
        "$$\n",
        "\n",
        "$$\n",
        "x + y + z + w + v = 7\n",
        "$$\n",
        "\n",
        "2. Calcule el valor del número de Euler o constante de Napier $e = 2,71828$ como:\n",
        "\n",
        "$$e = \\sum_i ^{\\infty} \\frac{1}{n!}$$\n",
        "\n",
        "  ¿Qué precisión en términos de el número de términos necesita para dar cuenta de los primeros 5 números de la coma decimal? **18 pts**\n",
        "\n",
        "3. Escriba el polinomio característico de la matriz en una celda de texto, déje registrado en una de código cómo obtuvo los valores característicos.  **16 pts**\n",
        "\n",
        "$$\n",
        "\\begin{pmatrix}\n",
        "2 & 1 & 1 \\\\\n",
        "4 & 3 & 2 \\\\\n",
        "1 & 1 & 2 \\\\\n",
        "\\end{pmatrix}\n",
        "$$\n",
        "\n"
      ]
    },
    {
      "cell_type": "markdown",
      "source": [
        "#R/#\n",
        "**2.1**"
      ],
      "metadata": {
        "id": "GCRlUS24fF_p"
      }
    },
    {
      "cell_type": "code",
      "execution_count": 36,
      "metadata": {
        "colab": {
          "base_uri": "https://localhost:8080/"
        },
        "id": "DAhK7n3P3nGL",
        "outputId": "84526595-5a88-4e77-8058-4a72641aae15"
      },
      "outputs": [
        {
          "output_type": "stream",
          "name": "stdout",
          "text": [
            "Solución:\n",
            "x = -1.6774193548387097\n",
            "y = -7.870967741935485\n",
            "z = 5.129032258064516\n",
            "w = 10.0\n",
            "v = 1.4193548387096777\n"
          ]
        }
      ],
      "source": [
        "import numpy as np\n",
        "\n",
        "# Definimos la matriz A y el vector b\n",
        "A = np.array([[2, 3, -1, 4, 5],\n",
        "              [1, -2, 4, -3, 1],\n",
        "              [3, 2, -3, 5, -2],\n",
        "              [4, 1, -2, 3, 2],\n",
        "              [1, 1, 1, 1, 1]])\n",
        "\n",
        "b = np.array([15, 6, 11, 8, 7])\n",
        "\n",
        "# Resolvemos el sistema de ecuaciones\n",
        "solution = np.linalg.solve(A, b)\n",
        "\n",
        "# Mostramos la solución\n",
        "print(\"Solución:\")\n",
        "print(\"x =\", solution[0])\n",
        "print(\"y =\", solution[1])\n",
        "print(\"z =\", solution[2])\n",
        "print(\"w =\", solution[3])\n",
        "print(\"v =\", solution[4])"
      ]
    },
    {
      "cell_type": "markdown",
      "source": [
        "#R/#\n",
        "**2.2**"
      ],
      "metadata": {
        "id": "nkq3IWOmfQ6d"
      }
    },
    {
      "cell_type": "code",
      "execution_count": 37,
      "metadata": {
        "colab": {
          "base_uri": "https://localhost:8080/",
          "height": 70
        },
        "id": "fq9FDASx4ik0",
        "outputId": "c702c345-f76f-443a-d925-af43914dd34b"
      },
      "outputs": [
        {
          "output_type": "stream",
          "name": "stdout",
          "text": [
            "e = 2.71828\n"
          ]
        },
        {
          "output_type": "execute_result",
          "data": {
            "text/plain": [
              "'\\nPara tener en cuenta los 5 primeros números decimales, necesitamos utilizar al menos 100 términos en la aproximación. Esto se debe a que el 5º punto decimal del número de Euler es 2, y el 100º término de la aproximación es 2,102434.\\n'"
            ],
            "application/vnd.google.colaboratory.intrinsic+json": {
              "type": "string"
            }
          },
          "metadata": {},
          "execution_count": 37
        }
      ],
      "source": [
        "import numpy as np\n",
        "\n",
        "def calculate_e(n):\n",
        "\n",
        "#Calcula el valor del número de Euler utilizando la definición\n",
        "#n: El número de términos a utilizar en la aproximación.\n",
        "#La aproximación de e.\n",
        "\n",
        "  e = 0\n",
        "  for i in range(n):\n",
        "    e += 1 / np.math.factorial(i)\n",
        "  return e\n",
        "\n",
        "#Función Principal\n",
        "def main():\n",
        "\n",
        "  n = 100\n",
        "  e = calculate_e(n)\n",
        "  print(\"e = {:.5f}\".format(e))\n",
        "\n",
        "if __name__ == \"__main__\":\n",
        "  main()\n",
        "\n",
        "\"\"\"\n",
        "Para tener en cuenta los 5 primeros números decimales, necesitamos utilizar al menos 100 términos en la aproximación. Esto se debe a que el 5º punto decimal del número de Euler es 2, y el 100º término de la aproximación es 2,102434.\n",
        "\"\"\"\n"
      ]
    },
    {
      "cell_type": "markdown",
      "source": [
        "#R/#\n",
        "**2.3**"
      ],
      "metadata": {
        "id": "32pYs5TkflRv"
      }
    },
    {
      "cell_type": "code",
      "execution_count": 38,
      "metadata": {
        "colab": {
          "base_uri": "https://localhost:8080/"
        },
        "id": "8gu89-aP5ibM",
        "outputId": "81b6557e-a893-4921-ce5a-8d384235b1c9"
      },
      "outputs": [
        {
          "output_type": "stream",
          "name": "stdout",
          "text": [
            "El polinomio característico es:\n",
            "   3     2\n",
            "1 x - 7 x + 9 x - 3\n"
          ]
        }
      ],
      "source": [
        "import numpy as np\n",
        "# Definimos la matriz A\n",
        "A = np.array([[2, 1, 1],\n",
        "              [4, 3, 2],\n",
        "              [1, 1, 2]])\n",
        "\n",
        "# Calculamos el polinomio característico usando numpy.poly\n",
        "polinomio_caracteristico = np.poly(A)\n",
        "\n",
        "# Mostramos el polinomio característico\n",
        "print(\"El polinomio característico es:\")\n",
        "print(np.poly1d(polinomio_caracteristico))\n"
      ]
    },
    {
      "cell_type": "code",
      "execution_count": null,
      "metadata": {
        "colab": {
          "base_uri": "https://localhost:8080/"
        },
        "id": "V4nXFI7N2qUE",
        "outputId": "6fdf844b-1af6-4bc9-9361-beb6d187475e"
      },
      "outputs": [
        {
          "name": "stdout",
          "output_type": "stream",
          "text": [
            "Los valores característicos son:\n",
            "λ = 5.44948974278318\n",
            "λ = 0.5505102572168231\n",
            "λ = 0.9999999999999993\n"
          ]
        }
      ],
      "source": [
        "import numpy as np\n",
        "\n",
        "# Definimos la matriz A\n",
        "A = np.array([[2, 1, 1],\n",
        "              [4, 3, 2],\n",
        "              [1, 1, 2]])\n",
        "\n",
        "# Calculamos los valores característicos directamente\n",
        "valores_caracteristicos = np.linalg.eigvals(A)\n",
        "\n",
        "# Mostramos los valores característicos\n",
        "print(\"Los valores característicos son:\")\n",
        "for valor in valores_caracteristicos:\n",
        "    print(f\"λ = {valor}\")\n",
        "\n"
      ]
    },
    {
      "cell_type": "code",
      "execution_count": 40,
      "metadata": {
        "id": "vVyYofzA8t4M"
      },
      "outputs": [],
      "source": [
        "#Ahora reemplazamos los valores hallados para obtener el polinomio característico:\n",
        "def polinomio_caracteristico(λ):\n",
        "    solucion= (λ - 5.5) * (λ - 0.5) * (λ - 1)\n",
        "    print(solucion)\n"
      ]
    },
    {
      "cell_type": "markdown",
      "metadata": {
        "id": "uif2XLb41kAE"
      },
      "source": [
        "$$P(λ) = λ^3 - 7λ^2 + 8.75λ - 2.75$$"
      ]
    }
  ],
  "metadata": {
    "colab": {
      "provenance": []
    },
    "kernelspec": {
      "display_name": "Python 3 (ipykernel)",
      "language": "python",
      "name": "python3"
    },
    "language_info": {
      "codemirror_mode": {
        "name": "ipython",
        "version": 3
      },
      "file_extension": ".py",
      "mimetype": "text/x-python",
      "name": "python",
      "nbconvert_exporter": "python",
      "pygments_lexer": "ipython3",
      "version": "3.10.6"
    }
  },
  "nbformat": 4,
  "nbformat_minor": 0
}