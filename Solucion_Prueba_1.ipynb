{
  "cells": [
    {
      "cell_type": "markdown",
      "metadata": {
        "id": "view-in-github",
        "colab_type": "text"
      },
      "source": [
        "<a href=\"https://colab.research.google.com/github/luisamariarodriguez/Fundamentos_Clases/blob/main/Solucion_Prueba_1.ipynb\" target=\"_parent\"><img src=\"https://colab.research.google.com/assets/colab-badge.svg\" alt=\"Open In Colab\"/></a>"
      ]
    },
    {
      "cell_type": "markdown",
      "source": [
        "# Integrantes\n",
        "* Jacobo Matteucci Lopera\n",
        "* Luisa María Rodríguez Cadavid\n",
        "* Erika Tatiana Rodríguez Chávez"
      ],
      "metadata": {
        "id": "3iyY3wqfQD5y"
      }
    },
    {
      "cell_type": "markdown",
      "metadata": {
        "id": "7vGMRorix7fJ"
      },
      "source": [
        "# **Prueba \\#1**\n",
        "\n",
        "En la siguiente pureba se evalua de manera EXCLUSIVA lo que se solicita, cualquier otra respuesta adicional a ella será valorada, más no evaluada. Entregue la prueba en un repositorio de github antes de el lunes 7 de agosto a las 23:59:59.\n",
        "\n"
      ]
    },
    {
      "cell_type": "markdown",
      "metadata": {
        "id": "2JiTz8I9yhXB"
      },
      "source": [
        "## **Ejercicio 1** (50 pts)\n",
        "\n",
        "Escriba una clase `Pedido` que pueda ser usada para gestionar la información de los pedidos realizados a una pastelería (o carnicería o tienda de ropa o empresa que ud desee). Evite usar módulos como numpy, pandas o cualquier otro.\n",
        "\n",
        "### **Rubrica**:\n",
        "\n",
        "1. Generación de la clase que funcione correctamente con al menos 2 métodos y 2 atributos. **30 pts**.\n",
        "2. Comentarios y  documentación que sirva para quien deba usar la clase. **5 pts**.\n",
        "3. Pertinencia de la clase en el ámbito, ¿Por qué será útil esta herramienta y cómo ayudará a mejorar el negocio? esta será entregada en una celda de texto. **10 pts**.\n",
        "4. ¿Cree que se pueda construir una clase hija que ayude al proceso? Si sí constrúyala, sino, argumente por qué en una célda de código. **5 pts**."
      ]
    },
    {
      "cell_type": "markdown",
      "source": [
        "# SOLUCIÓN PRIMERA PARTE\n",
        "1. Generación de la clase que funcione correctamente con al menos 2 métodos y 2 atributos:"
      ],
      "metadata": {
        "id": "tjbTDuIBb3ls"
      }
    },
    {
      "cell_type": "code",
      "source": [
        "# Librerías para el manejo de fechas\n",
        "from datetime import date, timedelta"
      ],
      "metadata": {
        "id": "YNDs10k4cOSg"
      },
      "execution_count": null,
      "outputs": []
    },
    {
      "cell_type": "code",
      "execution_count": null,
      "metadata": {
        "id": "AgwS8cBnx5Zc"
      },
      "outputs": [],
      "source": [
        "class Pedido:\n",
        "    # Constructor\n",
        "    def __init__(self, id_order: int, user: str, products: dict):\n",
        "      self.id_order = id_order\n",
        "      self.user = user\n",
        "      self.products = products\n",
        "      self.status = 'Pendiente'\n",
        "      order_date = date.today()\n",
        "      delivery_date = order_date + timedelta(days=3)\n",
        "      self.order_date = order_date.strftime(\"%d/%m/%Y\")\n",
        "      self.delivery_date = delivery_date.strftime(\"%d/%m/%Y\")\n",
        "\n",
        "    # Método: calculate_total\n",
        "    def calculate_total(self):\n",
        "      \"\"\"\n",
        "      Retorna el valor total del pedido multiplicando\n",
        "      el precio de cada producto por su respectivo valor.\n",
        "      \"\"\"\n",
        "      total = 0\n",
        "      for product, amount in self.products.items():\n",
        "          total += product.price * amount\n",
        "      return total\n",
        "\n",
        "    # Método: update_status\n",
        "    def update_status(self, new_status):\n",
        "      \"\"\"\n",
        "      Permite modificar el estado del producto.\n",
        "      \"\"\"\n",
        "      self.status = new_status\n",
        "\n",
        "    # Método: info\n",
        "    def info(self):\n",
        "      \"\"\"\n",
        "      Retorna algunos atributos del pedido.\n",
        "      \"\"\"\n",
        "      return {\n",
        "        'id_order': self.id_order,\n",
        "        'user': self.user,\n",
        "        'total': self.calculate_total(),\n",
        "        'status': self.status,\n",
        "        'order_date': self.order_date,\n",
        "        'delivery_date': self.delivery_date,\n",
        "    }\n",
        "\n",
        "class Producto:\n",
        "  # Constructor\n",
        "  def __init__(self, code: str, price: float):\n",
        "    self.code = code\n",
        "    self.price = price"
      ]
    },
    {
      "cell_type": "markdown",
      "source": [
        "2. Comentarios y documentación que sirva para quien deba usar la clase:"
      ],
      "metadata": {
        "id": "Jel-lsrfca54"
      }
    },
    {
      "cell_type": "code",
      "source": [
        "\"\"\"\n",
        "# Crear instancias de Producto\n",
        "# Constructor:\n",
        "# Producto(code: str, price: float)\n",
        "# Argumentos:\n",
        "#   code: codigo del producto\n",
        "#   price: precio del producto\n",
        "\n",
        "torta_naranja = Producto('torta_naranja_x10u', 45000)\n",
        "galletas_avena = Producto('galleta_avena_x1u', 1000)\n",
        "\n",
        "# ----------------------------------------------------------------------- #\n",
        "# Crear instancias de Pedido\n",
        "# Constructor: Pedido(id_order: int, user: str, products: dict)\n",
        "# Argumentos:\n",
        "#   id_order: id del pedido\n",
        "#   user: nombre del cliente\n",
        "#   products: diccionario con los códigos del producto y la cantidad requerida\n",
        "\n",
        "pedido1 = Pedido(1, 'Pepito Pérez', {torta_naranja: 1, galletas_avena: 5})\n",
        "\n",
        "# ----------------------------------------------------------------------- #\n",
        "# Usar los métodos de la clase Pedido\n",
        "print(pedido1.calculate_total())\n",
        "# Debería imprimir 50000 (1 torta de naranja de 45000 + 5 galletas de avena de 1000)\n",
        "\n",
        "pedido1.update_status('En Proceso')\n",
        "# Cambia el estado del Pedido de 'Pendiente' a 'En Proceso'\n",
        "\n",
        "print(pedido1.info())\n",
        "# Debería imprimir: {'id_order': 1, 'user': 'Pepito Pérez', 'total': 50000, 'status': 'En Proceso', 'order_date':'07/08/2023', 'delivery_date': '10/08/2023'}\n",
        "\"\"\""
      ],
      "metadata": {
        "id": "JMSRy-qHcdg-"
      },
      "execution_count": null,
      "outputs": []
    },
    {
      "cell_type": "markdown",
      "source": [
        "3. Pertinencia de la clase en el ámbito, ¿Por qué será útil esta herramienta y cómo ayudará a mejorar el negocio?\n",
        "\n"
      ],
      "metadata": {
        "id": "PVnHgckefEiX"
      }
    },
    {
      "cell_type": "markdown",
      "source": [
        "La clase `Pedido` proporciona una forma de encapsular todos los detalles de un pedido en un solo objeto. Esto tiene varias ventajas que pueden mejorar la eficiencia y la organización del negocio:\n",
        "\n",
        "1. **Estructura clara de los datos**: La clase `Pedido` proporciona una estructura de datos clara y predecible para los pedidos. Esto facilita la comprensión y gestión de los datos de los pedidos.\n",
        "\n",
        "2. **Evita la duplicación de datos**: Al almacenar todos los detalles de un pedido en un solo objeto, se evita la necesidad de duplicar estos datos en diferentes lugares.\n",
        "\n",
        "3. **Facilita la modificación y mantenimiento del código**: Si necesitas cambiar la forma en que se gestionan los pedidos, sólo necesitas modificar la clase `Pedido`, en lugar de buscar y cambiar código en diferentes lugares.\n",
        "\n",
        "4. **Fomenta la reutilización de código**: Puedes reutilizar la clase `Pedido` para manejar todos los pedidos en tu negocio. Además, puedes crear clases hijas para manejar tipos de pedidos específicos (como hemos demostrado con las clases `PedidoExpress` y `PedidoCorporativo`), lo que reduce aún más la duplicación de código.\n",
        "\n",
        "5. **Permite el crecimiento y la expansión**: A medida que tu negocio crece y evoluciona, puedes añadir más atributos y métodos a la clase `Pedido` según sea necesario.\n",
        "\n",
        "En cuanto a cómo esta herramienta podría mejorar el negocio, la eficiencia y la organización adicionales proporcionadas por la clase `Pedido` podrían ayudar a reducir los errores, mejorar la velocidad del servicio y, en última instancia, mejorar la satisfacción del cliente. Además, tener un manejo claro y eficiente de los pedidos podría permitirte manejar un mayor volumen de negocios, lo que podría aumentar tus ventas y beneficios."
      ],
      "metadata": {
        "id": "wFrR9rsyhIgi"
      }
    },
    {
      "cell_type": "markdown",
      "source": [
        "4. ¿Cree que se pueda construir una clase hija que ayude al proceso?"
      ],
      "metadata": {
        "id": "IaPHdHy8fTjK"
      }
    },
    {
      "cell_type": "markdown",
      "source": [
        "Si, se puede construir una clase hija que herede de la clase `Pedido` y le permita al negocio expandir y personalizar la funcionalidad de la clase `Pedido`. Por ejemplo, podríamos tener una clase `PedidoExpress` que maneje pedidos con entrega programada para el día siguiente, cobrando una comisión extra del 20% sobre el total de la compra:"
      ],
      "metadata": {
        "id": "7qv7XlPBgPoW"
      }
    },
    {
      "cell_type": "code",
      "source": [
        "class PedidoExpress(Pedido):\n",
        "  def __init__(self, id_order: int, user: str, products: dict):\n",
        "    Pedido.__init__(self, id_order, user, products)\n",
        "    order_date = date.today()\n",
        "    delivery_date = order_date + timedelta(days=1)\n",
        "    self.order_date = order_date.strftime(\"%d/%m/%Y\")\n",
        "    self.delivery_date = delivery_date.strftime(\"%d/%m/%Y\")\n",
        "\n",
        "  def calculate_total(self):\n",
        "    pre_total = 0\n",
        "    for product, amount in self.products.items():\n",
        "        pre_total += product.price * amount\n",
        "    total = pre_total + (pre_total * 0.2)\n",
        "    return total"
      ],
      "metadata": {
        "id": "FkPVu2k-gEwP"
      },
      "execution_count": null,
      "outputs": []
    },
    {
      "cell_type": "code",
      "source": [
        "\"\"\"\n",
        "# Crear una instancia de PedidoExpress\n",
        "# Constructor: PedidoExpress(id_order: int, user: str, products: dict)\n",
        "# Argumentos:\n",
        "#   id_order: id del pedido\n",
        "#   user: nombre del cliente\n",
        "#   products: diccionario con los códigos del producto y la cantidad requerida\n",
        "\n",
        "pedido2 = PedidoExpress(2, 'Pepito Pérez', {torta_naranja: 1, galletas_avena: 5})\n",
        "\n",
        "# ----------------------------------------------------------------------- #\n",
        "# Usar los métodos de la clase PedidoExpress\n",
        "print(pedido2.calculate_total())\n",
        "# Debería imprimir 60000 (50000 del pedido + 20% del valor del pedido)"
      ],
      "metadata": {
        "id": "H4NOGO_cgf8R"
      },
      "execution_count": null,
      "outputs": []
    },
    {
      "cell_type": "markdown",
      "metadata": {
        "id": "pnfosm2l12c5"
      },
      "source": [
        "## **Ejercicio 2** (50 pts)\n",
        "\n",
        "Realice los siguientes ejercicios con numpy\n",
        "\n",
        "1. Resolver el siguiente sistema de ecuaciones. **16 pts**\n",
        "\n",
        "$$\n",
        "2x + 3y - z + 4w + 5v = 15\n",
        "$$\n",
        "\n",
        "$$\n",
        "x - 2y + 4z - 3w + v = 6\n",
        "$$\n",
        "\n",
        "$$\n",
        "3x + 2y - 3z + 5w - 2v = 11\n",
        "$$\n",
        "\n",
        "$$\n",
        "4x + y - 2z + 3w + 2v = 8\n",
        "$$\n",
        "\n",
        "$$\n",
        "x + y + z + w + v = 7\n",
        "$$\n",
        "\n",
        "2. Calcule el valor del número de Euler o constante de Napier $e = 2,71828$ como:\n",
        "\n",
        "$$e = \\sum_i ^{\\infty} \\frac{1}{n!}$$\n",
        "\n",
        "  ¿Qué precisión en términos de el número de términos necesita para dar cuenta de los primeros 5 números de la coma decimal? **18 pts**\n",
        "\n",
        "3. Escriba el polinomio característico de la matriz en una celda de texto, déje registrado en una de código cómo obtuvo los valores característicos.  **16 pts**\n",
        "\n",
        "$$\n",
        "\\begin{pmatrix}\n",
        "2 & 1 & 1 \\\\\n",
        "4 & 3 & 2 \\\\\n",
        "1 & 1 & 2 \\\\\n",
        "\\end{pmatrix}\n",
        "$$\n",
        "\n"
      ]
    },
    {
      "cell_type": "markdown",
      "source": [
        "# SOLUCIÓN SEGUNDA PARTE"
      ],
      "metadata": {
        "id": "O9wCAJN2rUqv"
      }
    },
    {
      "cell_type": "markdown",
      "source": [
        "2.1. Resolver el siguiente sistema de ecuaciones. **16 pts**\n",
        "\n",
        "$$\n",
        "2x + 3y - z + 4w + 5v = 15\n",
        "$$\n",
        "\n",
        "$$\n",
        "x - 2y + 4z - 3w + v = 6\n",
        "$$\n",
        "\n",
        "$$\n",
        "3x + 2y - 3z + 5w - 2v = 11\n",
        "$$\n",
        "\n",
        "$$\n",
        "4x + y - 2z + 3w + 2v = 8\n",
        "$$\n",
        "\n",
        "$$\n",
        "x + y + z + w + v = 7\n",
        "$$"
      ],
      "metadata": {
        "id": "khnxcbDA0JM6"
      }
    },
    {
      "cell_type": "code",
      "source": [
        "import numpy as np\n",
        "\n",
        "# Definir la matriz de coeficientes\n",
        "A = np.array([[2, 3, -1, 4, 5],\n",
        "              [1, -2, 4, -3, 1],\n",
        "              [3, 2, -3, 5, -2],\n",
        "              [4, 1, -2, 3, 2],\n",
        "              [1, 1, 1, 1, 1]])\n",
        "\n",
        "# Definir el vector respuestas\n",
        "b = np.array([15, 6, 11, 8, 7])\n",
        "\n",
        "# Resolver el sistema de ecuaciones con la función np.linalg.solve\n",
        "x = np.linalg.solve(A, b)\n",
        "\n",
        "# Imprimir resultado al sistema de ecuaciiones\n",
        "print(f\"La solución al sistema de ecuaciones es:\\n\"\n",
        "    f\"x = {x[0]}\\n\"\n",
        "    f\"y = {x[1]}\\n\"\n",
        "    f\"z = {x[2]}\\n\"\n",
        "    f\"w = {x[3]}\\n\"\n",
        "    f\"v = {x[4]}\")"
      ],
      "metadata": {
        "colab": {
          "base_uri": "https://localhost:8080/"
        },
        "id": "mrhkiDJ_0I9y",
        "outputId": "ba567959-8196-413e-d76f-cf41a36c6aa8"
      },
      "execution_count": null,
      "outputs": [
        {
          "output_type": "stream",
          "name": "stdout",
          "text": [
            "La solución al sistema de ecuaciones es:\n",
            "x = -1.6774193548387097\n",
            "y = -7.870967741935485\n",
            "z = 5.129032258064516\n",
            "w = 10.0\n",
            "v = 1.4193548387096777\n"
          ]
        }
      ]
    },
    {
      "cell_type": "markdown",
      "source": [
        "2.2. Calcule el valor del número de Euler o constante de Napier $e = 2,71828$ como:\n",
        "\n",
        "$$e = \\sum_i ^{\\infty} \\frac{1}{n!}$$\n"
      ],
      "metadata": {
        "id": "zRlABvLek1cy"
      }
    },
    {
      "cell_type": "code",
      "source": [
        "# Importar librería math para facilitar el cálculo de factorial\n",
        "import math\n",
        "\n",
        "# Definir función de suma y un arreglo que va desde 0 hasta infinito (tan grande como haga falta)\n",
        "def sum_euler(m):\n",
        "    n = np.arange(m + 1)\n",
        "    # Devolver el valor con la función de la sumatoria\n",
        "    return np.sum(1/np.vectorize(math.factorial)(n))\n",
        "\n",
        "# Guardar el resultado para la sumatoria, en este caso con 8 términos\n",
        "result = sum_euler(8)\n",
        "\n",
        "# Imprimir resultado según la cantidad de términos indicados\n",
        "print(f\"El valor de Euler según la cantidad de términos indicados es: {result}\")"
      ],
      "metadata": {
        "id": "RLKnKjuB7AiO",
        "colab": {
          "base_uri": "https://localhost:8080/"
        },
        "outputId": "ff7b2ce4-7000-404a-a8ed-d514fe6ea3d6"
      },
      "execution_count": null,
      "outputs": [
        {
          "output_type": "stream",
          "name": "stdout",
          "text": [
            "la sumatoria de la ecuación de Euler para el número de términos indicados es: 2.7182787698412696\n"
          ]
        }
      ]
    },
    {
      "cell_type": "markdown",
      "source": [
        "Puede observarse que usando la función `suma_euler` con 9 términos se obtiene una precisión de 6 cifras decimales:"
      ],
      "metadata": {
        "id": "JyxINHbbBG4l"
      }
    },
    {
      "cell_type": "code",
      "source": [
        "e_ = math.e\n",
        "e_approx = suma_euler(8)\n",
        "print(f\"Valor de e según el módulo math de Python: {e_}\")\n",
        "print(f\"Valor de e usando 8 términos en la función suma_euler: {e_approx}\")\n",
        "print(f\"Error absoluto: {abs(e_ - e_approx)}\")\n",
        "print(f\"Error relativo: {abs((e_ - e_approx) / e_) * 100}\")"
      ],
      "metadata": {
        "colab": {
          "base_uri": "https://localhost:8080/"
        },
        "id": "vKZoRtjeAS00",
        "outputId": "6fc092dc-2100-49bc-b840-ea40eb485ac2"
      },
      "execution_count": null,
      "outputs": [
        {
          "output_type": "stream",
          "name": "stdout",
          "text": [
            "Valor de e según el módulo math de Python: 2.718281828459045\n",
            "Valor de e usando 8 términos en la función suma_euler: 2.7182787698412696\n",
            "Error absoluto: 3.058617775497652e-06\n",
            "Error relativo: 0.00011252025980071162\n"
          ]
        }
      ]
    },
    {
      "cell_type": "markdown",
      "source": [
        "2.3. Escriba el polinomio característico de la matriz en una celda de texto, déje registrado en una de código cómo obtuvo los valores característicos.  **16 pts**\n",
        "\n",
        "$$\n",
        "\\begin{pmatrix}\n",
        "2 & 1 & 1 \\\\\n",
        "4 & 3 & 2 \\\\\n",
        "1 & 1 & 2 \\\\\n",
        "\\end{pmatrix}\n",
        "$$\n"
      ],
      "metadata": {
        "id": "j4P-TNSrlJl4"
      }
    },
    {
      "cell_type": "markdown",
      "source": [
        "El polinomio característico de la matriz plateada es:\n",
        "\n",
        "$$\n",
        "x^3 - 7x^2 + 9x -3\n",
        "$$\n",
        "\n",
        "\n",
        "El código para llegar a los valores propios se desarrolla a continuación:"
      ],
      "metadata": {
        "id": "ZEPwOJ-1obOo"
      }
    },
    {
      "cell_type": "code",
      "source": [
        "# Definir la matriz\n",
        "matrix = np.array([[2, 1, 1],\n",
        "              [4, 3, 2],\n",
        "              [1, 1, 2]])\n",
        "\n",
        "# Coeficientes del polinomio característico\n",
        "coefficients = np.poly(matrix)\n",
        "\n",
        "# Valores propios del polinomio característico\n",
        "eigenvalues = np.roots(coefficients)\n",
        "\n",
        "# Construir el polinomio característico\n",
        "characteristic_polynomial = np.poly1d(eigenvalues, r=True)\n",
        "\n",
        "print(f\"Los valores propios son: \\n{eigenvalues}\")\n",
        "print(f\"El Polinomio característico para la matriz dada es: \\n{characteristic_polynomial}\")"
      ],
      "metadata": {
        "colab": {
          "base_uri": "https://localhost:8080/"
        },
        "id": "rnP4ci-6nEDy",
        "outputId": "a18ab9b6-be77-4f24-9a03-1f5205a1e9c9"
      },
      "execution_count": 63,
      "outputs": [
        {
          "output_type": "stream",
          "name": "stdout",
          "text": [
            "Los valores propios son: \n",
            "[5.44948974 1.         0.55051026]\n",
            "El Polinomio característico para la matriz dada es: \n",
            "   3     2\n",
            "1 x - 7 x + 9 x - 3\n"
          ]
        }
      ]
    }
  ],
  "metadata": {
    "colab": {
      "provenance": [],
      "include_colab_link": true
    },
    "kernelspec": {
      "display_name": "Python 3 (ipykernel)",
      "language": "python",
      "name": "python3"
    },
    "language_info": {
      "codemirror_mode": {
        "name": "ipython",
        "version": 3
      },
      "file_extension": ".py",
      "mimetype": "text/x-python",
      "name": "python",
      "nbconvert_exporter": "python",
      "pygments_lexer": "ipython3",
      "version": "3.10.6"
    }
  },
  "nbformat": 4,
  "nbformat_minor": 0
}