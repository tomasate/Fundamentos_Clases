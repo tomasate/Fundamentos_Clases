{
  "nbformat": 4,
  "nbformat_minor": 0,
  "metadata": {
    "colab": {
      "provenance": []
    },
    "kernelspec": {
      "name": "python3",
      "display_name": "Python 3"
    },
    "language_info": {
      "name": "python"
    }
  },
  "cells": [
    {
      "cell_type": "markdown",
      "source": [
        "# Integrantes\n",
        "\n",
        "\n",
        "\n",
        "*   Luis Alejandro Montoya\n",
        "*   Juan Sebastian Villada\n",
        "*   Christian Daniel España\n",
        "\n"
      ],
      "metadata": {
        "id": "T68BPhQbmFGH"
      }
    },
    {
      "cell_type": "code",
      "execution_count": 1,
      "metadata": {
        "id": "vdhsyNF0xhvY"
      },
      "outputs": [],
      "source": [
        "import numpy as np"
      ]
    },
    {
      "cell_type": "code",
      "source": [
        "# Base de datos de productos y precios\n",
        "base_de_datos = {\n",
        "            \"Pantalon\": 100000,\n",
        "            \"Camiseta\": 50000,\n",
        "            \"Gafas\": 25000,\n",
        "            \"Gorra\": 20000,\n",
        "            \"Zapatos\": 250000\n",
        "            # Agrega más productos y precios según sea necesario\n",
        "        }\n",
        "\n",
        "\n",
        "class Pedido:\n",
        "\n",
        "    \"\"\"\n",
        "    Clase Pedido que ayuda a tomar los pedidos enviados por el usuario y calcula el total de la compra\n",
        "\n",
        "    -----------\n",
        "\n",
        "    Atributos\n",
        "    ----------\n",
        "    numero_pedido : int\n",
        "        Identificador del pedido\n",
        "    cliente : str\n",
        "        Nombre del cliente quien realiza el pedido\n",
        "    fecha : str\n",
        "        Fecha de creación del pedido\n",
        "    productos : dict\n",
        "        Diccionario de productos seleccionados por el usuario\n",
        "\n",
        "\n",
        "    Metodos\n",
        "    -------\n",
        "    mostrar_detalle()\n",
        "        Muestra los productos y la cantidad de ellos\n",
        "\n",
        "    agregar_producto(producto, cantidad)\n",
        "        Agrega nuevos productos o actualiza los exitentes\n",
        "\n",
        "    eliminar_producto(producto)\n",
        "        Elimina el producto seleccionado\n",
        "\n",
        "    calcular_total()\n",
        "        Calcula el total de los productos realizando una busqueda de los precios en la base de datos\n",
        "    \"\"\"\n",
        "    def __init__(self, numero_pedido: int, cliente: str, fecha: str, productos: dict):\n",
        "      self.informacion_pedido = {\n",
        "          'numero_pedido': numero_pedido,\n",
        "          'cliente': cliente,\n",
        "          'fecha': fecha,\n",
        "          'productos': dict(productos),\n",
        "          'total' : 0,\n",
        "      }\n",
        "\n",
        "      \"\"\"\n",
        "      Parametros\n",
        "      ----------\n",
        "      numero_pedido : int\n",
        "          Identificador del pedido\n",
        "      cliente : str\n",
        "          Nombre del cliente quien realiza el pedido\n",
        "      fecha : str\n",
        "          Fecha de creación del pedido\n",
        "      productos : dict\n",
        "          Diccionario de productos seleccionados por el usuario\n",
        "      \"\"\"\n",
        "\n",
        "\n",
        "\n",
        "    def mostrar_detalle(self):\n",
        "\n",
        "      \"\"\"\n",
        "      Esta función muestra el detalle de la compra, los productos seleccionados por el usuario y el total\n",
        "      \"\"\"\n",
        "\n",
        "      print(f\"Número de Pedido: {self.informacion_pedido['numero_pedido']}\")\n",
        "      print(f\"Cliente: {self.informacion_pedido['cliente']}\")\n",
        "      print(f\"Fecha: {self.informacion_pedido['fecha']}\")\n",
        "      print(\"Productos:\")\n",
        "      for producto, cantidad in self.informacion_pedido['productos'].items():\n",
        "          print(f\" - {producto}: {cantidad}\")\n",
        "      self.calcular_total()\n",
        "      print()\n",
        "      print(f\"Total: COP {self.informacion_pedido['total']}\")\n",
        "\n",
        "    def agregar_producto(self, producto, cantidad):\n",
        "\n",
        "      \"\"\"\n",
        "      Esta función se encarga de agregar nuevos productos a la lista de compra\n",
        "      \"\"\"\n",
        "\n",
        "      #Se realiza la busqueda del producto en la base inicial de productos, si lo encuentra suma la cantidad sino lo agrega\n",
        "      if producto in self.informacion_pedido['productos']:\n",
        "          self.informacion_pedido['productos'][producto] += cantidad\n",
        "      else:\n",
        "          self.informacion_pedido['productos'][producto] = cantidad\n",
        "\n",
        "    def eliminar_producto(self, producto):\n",
        "\n",
        "      \"\"\"\n",
        "      Esta función elimina el producto de la lista de compra\n",
        "      \"\"\"\n",
        "\n",
        "      #Valida si el producto se encuentra en la base inicial de productos de ser asi lo elimina\n",
        "      if producto in self.informacion_pedido['productos']:\n",
        "          del self.informacion_pedido['productos'][producto]\n",
        "      else:\n",
        "          print(f\"El producto '{producto}' no se encuentra en el pedido.\")\n",
        "\n",
        "    def calcular_total(self):\n",
        "\n",
        "      \"\"\"\n",
        "      Es la función que realiza el calculo del total a pagar tomando el valor de cada item y las cantidades\n",
        "      \"\"\"\n",
        "\n",
        "      total = 0\n",
        "      # Se recorre el diccionario que contiene los productos seleccionados por el usuario\n",
        "      for producto, cantidad in self.informacion_pedido['productos'].items():\n",
        "          # Si el producto se encuentra en la base de datos, se actualiza el total a pagar multiplicando el precio alojado en la base de datos con la cantidad que se le pasa por parametro\n",
        "          if producto in base_de_datos:\n",
        "              precio = base_de_datos[producto]\n",
        "              total += precio * cantidad\n",
        "          else:\n",
        "            # En caso de que el producto no se encuentre en la base de datos, el programa permite incluir el nuevo item con su valor respectivo.\n",
        "            print(f\"*** El producto {producto} seleccionado por el usario no existe en la base de datos ***\")\n",
        "            precio = int(input(f\"Ingrese el precio del nuevo producto: {producto} \\t\"))\n",
        "            base_de_datos[producto] = precio\n",
        "            total += precio * cantidad\n",
        "\n",
        "      self.informacion_pedido['total'] = total\n",
        "      return total\n"
      ],
      "metadata": {
        "id": "mQ2mkpZCpYwq"
      },
      "execution_count": 7,
      "outputs": []
    },
    {
      "cell_type": "code",
      "source": [
        "# Crear un pedido\n",
        "productos_iniciales = {\"Pantalon\": 1, \"Camiseta\": 1}\n",
        "# Implementación de la clase Pedido\n",
        "pedido1 = Pedido(1, \"Laura\", \"2023-08-05\", productos_iniciales)"
      ],
      "metadata": {
        "id": "BQdJou5lqB-R"
      },
      "execution_count": 8,
      "outputs": []
    },
    {
      "cell_type": "code",
      "source": [
        "# Mostrar detalles del pedido\n",
        "pedido1.mostrar_detalle()"
      ],
      "metadata": {
        "colab": {
          "base_uri": "https://localhost:8080/"
        },
        "id": "BbZ_VxfvqElx",
        "outputId": "b784e38b-cc0f-4825-8b7a-75b738f40e4e"
      },
      "execution_count": 9,
      "outputs": [
        {
          "output_type": "stream",
          "name": "stdout",
          "text": [
            "Número de Pedido: 1\n",
            "Cliente: Laura\n",
            "Fecha: 2023-08-05\n",
            "Productos:\n",
            " - Pantalon: 1\n",
            " - Camiseta: 1\n",
            "\n",
            "Total: COP 150000\n"
          ]
        }
      ]
    },
    {
      "cell_type": "code",
      "source": [
        "# Eliminar el item \"Pantalon\"\n",
        "pedido1.eliminar_producto(\"Pantalon\")\n",
        "# Mostrar nuevamente los detalles de la compra\n",
        "pedido1.mostrar_detalle()\n"
      ],
      "metadata": {
        "colab": {
          "base_uri": "https://localhost:8080/"
        },
        "id": "bFlXNWKiLmoP",
        "outputId": "493fe26b-3559-41eb-ecf1-0ae26782a329"
      },
      "execution_count": 10,
      "outputs": [
        {
          "output_type": "stream",
          "name": "stdout",
          "text": [
            "Número de Pedido: 1\n",
            "Cliente: Laura\n",
            "Fecha: 2023-08-05\n",
            "Productos:\n",
            " - Camiseta: 1\n",
            "\n",
            "Total: COP 50000\n"
          ]
        }
      ]
    },
    {
      "cell_type": "code",
      "source": [
        "# Agregar productos\n",
        "pedido1.agregar_producto(\"aretes\", 1)\n",
        "# Mostrar productos nuevamente\n",
        "pedido1.mostrar_detalle()"
      ],
      "metadata": {
        "colab": {
          "base_uri": "https://localhost:8080/"
        },
        "id": "XzOUZRAKqGg7",
        "outputId": "7cc23dc8-bdd7-4512-e01e-6e7597caa098"
      },
      "execution_count": 11,
      "outputs": [
        {
          "output_type": "stream",
          "name": "stdout",
          "text": [
            "Número de Pedido: 1\n",
            "Cliente: Laura\n",
            "Fecha: 2023-08-05\n",
            "Productos:\n",
            " - Camiseta: 1\n",
            " - aretes: 1\n",
            "*** El producto aretes seleccionado por el usario no existe en la base de datos ***\n",
            "Ingrese el precio del nuevo producto: aretes \t19999\n",
            "\n",
            "Total: COP 69999\n"
          ]
        }
      ]
    },
    {
      "cell_type": "code",
      "source": [
        "class PedidoDescuento(Pedido):\n",
        "\n",
        "  \"\"\"\n",
        "    Clase PedidoDescuento que ayuda a realizar un descuento de los productos seleccionados la cual hereda de la clase Pedido\n",
        "\n",
        "    -----------\n",
        "\n",
        "    Atributos\n",
        "    ----------\n",
        "    numero_pedido : int\n",
        "        Identificador del pedido\n",
        "    cliente : str\n",
        "        Nombre del cliente quien realiza el pedido\n",
        "    fecha : str\n",
        "        Fecha de creación del pedido\n",
        "    productos : dict\n",
        "        Diccionario de productos seleccionados por el usuario\n",
        "    descuento : int\n",
        "        valor con el que se aplicará el descuento\n",
        "\n",
        "\n",
        "    Metodos\n",
        "    -------\n",
        "    mostrar_detalle()\n",
        "        Muestra los productos y la cantidad de ellos el total con y sin descuento\n",
        "  \"\"\"\n",
        "\n",
        "\n",
        "  def __init__(self, numero_pedido: int, cliente: str, fecha: str, productos: dict, descuento: int):\n",
        "\n",
        "\n",
        "    super().__init__(numero_pedido, cliente, fecha, productos)\n",
        "    self.descuento = descuento\n",
        "\n",
        "    \"\"\"\n",
        "    Atributos\n",
        "    ----------\n",
        "    numero_pedido : int\n",
        "        Identificador del pedido\n",
        "    cliente : str\n",
        "        Nombre del cliente quien realiza el pedido\n",
        "    fecha : str\n",
        "        Fecha de creación del pedido\n",
        "    productos : dict\n",
        "        Diccionario de productos seleccionados por el usuario\n",
        "    descuento : int\n",
        "        valor con el que se aplicará el descuento\n",
        "    \"\"\"\n",
        "\n",
        "  # Con la creación de esta funcion estamos cumpliendo unos de los pilares de la POO el cual es el polimorfismo\n",
        "  def mostrar_detalle(self):\n",
        "\n",
        "    # Se invoca el metodo mostrar_detalle de la clase madre Pedido\n",
        "    super().mostrar_detalle()\n",
        "    # Se invoca el metodo calcular_total de la clase madre Pedido\n",
        "    super().calcular_total()\n",
        "\n",
        "    # Se calcula el descuento para los productos seleccionados\n",
        "    descuento_total = self.informacion_pedido['total'] * (self.descuento / 100)\n",
        "    # Se resta el descuento a la variable total\n",
        "    self.informacion_pedido['total'] -= descuento_total\n",
        "\n",
        "    print(f\"Descuento aplicado: {self.descuento}%\")\n",
        "    print(f\"Total con descuento: COP {self.informacion_pedido['total']}\")\n"
      ],
      "metadata": {
        "id": "qKOtIs8hBcgL"
      },
      "execution_count": 13,
      "outputs": []
    },
    {
      "cell_type": "code",
      "source": [
        "# Se instancia la clase hija\n",
        "pedido_descuento = PedidoDescuento(numero_pedido=1, cliente=\"Laura\", fecha=\"2023-08-07\", productos=productos_iniciales, descuento=50)\n",
        "\n",
        "# Mostrar los detalles del pedido con descuento\n",
        "pedido_descuento.mostrar_detalle()"
      ],
      "metadata": {
        "colab": {
          "base_uri": "https://localhost:8080/"
        },
        "id": "krp8HgoBCRfc",
        "outputId": "8cd78eee-475a-41d4-86f3-d7c5236a837c"
      },
      "execution_count": 14,
      "outputs": [
        {
          "output_type": "stream",
          "name": "stdout",
          "text": [
            "Número de Pedido: 1\n",
            "Cliente: Laura\n",
            "Fecha: 2023-08-07\n",
            "Productos:\n",
            " - Pantalon: 1\n",
            " - Camiseta: 1\n",
            "\n",
            "Total: COP 150000\n",
            "Descuento aplicado: 50%\n",
            "Total con descuento: COP 75000.0\n"
          ]
        }
      ]
    },
    {
      "cell_type": "markdown",
      "source": [
        "Pertinencia de la clase en el ámbito, ¿Por qué será útil esta herramienta y cómo ayudará a mejorar el negocio?\n",
        "\n",
        "Respuesta:\n",
        "\n",
        "El programa es util por que es una herramienta que ayuda al manejo del inventario por medio de la gestión de la base de datos, ademas permite realizar de manera eficiente el calculo de la venta asociada a los pedidos que son despachados desde la tienda, toda vez que permite automatizar y estandarizar tareas como añadir nuevos items al pedido, eliminar items, listar los productos de la compra, realizar descuentos  y calcular el total a pagar.\n",
        "\n"
      ],
      "metadata": {
        "id": "FGm0MOKgs8Lp"
      }
    },
    {
      "cell_type": "markdown",
      "source": [
        "#Ejercicio 2"
      ],
      "metadata": {
        "id": "rqL55WIvRrAh"
      }
    },
    {
      "cell_type": "markdown",
      "source": [
        "#a.)"
      ],
      "metadata": {
        "id": "MKFtDbIFm72v"
      }
    },
    {
      "cell_type": "code",
      "source": [
        "# Coeficientes de las ecuaciones\n",
        "coefficients = np.array([[2, 3, -1, 4, 5],\n",
        "                         [1, -2, 4, -3, 1],\n",
        "                         [3, 2, -3, 5, -2],\n",
        "                         [4, 1, -2, 3, 2],\n",
        "                         [1, 1, 1, 1, 1]])\n",
        "\n",
        "# Términos independientes\n",
        "constants = np.array([15, 6, 11, 8, 7])"
      ],
      "metadata": {
        "id": "Db-J4yaDCwpY"
      },
      "execution_count": 15,
      "outputs": []
    },
    {
      "cell_type": "code",
      "source": [
        "# Resuelve el sistema de ecuaciones utilizando la función np.linalg.solve():\n",
        "solution = np.linalg.solve(coefficients, constants)\n",
        "\n",
        "print(\"Solución:\\n\")\n",
        "print(\"x =\", round(solution[0], 2))\n",
        "print(\"y =\", round(solution[1], 2))\n",
        "print(\"z =\", round(solution[2], 2))\n",
        "print(\"w =\", round(solution[3], 2))\n",
        "print(\"v =\", round(solution[4], 2))"
      ],
      "metadata": {
        "colab": {
          "base_uri": "https://localhost:8080/"
        },
        "id": "qDtXktQrRyIk",
        "outputId": "f3740b89-ffa2-4174-ecff-a52b5dd3ca89"
      },
      "execution_count": 16,
      "outputs": [
        {
          "output_type": "stream",
          "name": "stdout",
          "text": [
            "Solución:\n",
            "\n",
            "x = -1.68\n",
            "y = -7.87\n",
            "z = 5.13\n",
            "w = 10.0\n",
            "v = 1.42\n"
          ]
        }
      ]
    },
    {
      "cell_type": "markdown",
      "source": [
        "#b.)"
      ],
      "metadata": {
        "id": "yAX1urktnAqp"
      }
    },
    {
      "cell_type": "code",
      "source": [
        "from scipy.special import factorial\n",
        "\n",
        "def euler(n):\n",
        "  '''\n",
        "  Esta funcion realiza el calculo del valor del número de Euler\n",
        "\n",
        "  Parametros de entrada:\n",
        "    n (int): Numero entero\n",
        "\n",
        "  Retorna:\n",
        "  int: Valor real que corresponde la sumatoria de la funcion de Euler hasta 1 hasta n\n",
        "\n",
        "  '''\n",
        "  # Se crea un array de longitud n\n",
        "  l = np.arange(n)\n",
        "  # Se calcula el factorial para cada elemento del array\n",
        "  factoriales = factorial(l)\n",
        "  # Se realiza la sumatoria sum((1) / (factoriales)) y se retarna el valor calculado\n",
        "  return np.sum(((1) / (factoriales) ) )"
      ],
      "metadata": {
        "id": "-1HUghhP5DCP"
      },
      "execution_count": 17,
      "outputs": []
    },
    {
      "cell_type": "code",
      "source": [
        "# Se evalua la función construida con el valor de 4 y no se aproxima al valor deseado\n",
        "euler(4)"
      ],
      "metadata": {
        "colab": {
          "base_uri": "https://localhost:8080/"
        },
        "id": "yAsf9iJ_BbxB",
        "outputId": "11ded124-deba-428c-adaa-3fd7bc4dd2db"
      },
      "execution_count": 18,
      "outputs": [
        {
          "output_type": "execute_result",
          "data": {
            "text/plain": [
              "2.6666666666666665"
            ]
          },
          "metadata": {},
          "execution_count": 18
        }
      ]
    },
    {
      "cell_type": "code",
      "source": [
        "# Con el valor de 10 en adelante se logra exitosamente el valor deseado\n",
        "euler(10)"
      ],
      "metadata": {
        "colab": {
          "base_uri": "https://localhost:8080/"
        },
        "id": "3l3LTMHxAKRg",
        "outputId": "e465718e-8d86-4b8d-a97c-ef92e7c395a3"
      },
      "execution_count": 19,
      "outputs": [
        {
          "output_type": "execute_result",
          "data": {
            "text/plain": [
              "2.718281525573192"
            ]
          },
          "metadata": {},
          "execution_count": 19
        }
      ]
    },
    {
      "cell_type": "code",
      "source": [
        "euler(10000)"
      ],
      "metadata": {
        "colab": {
          "base_uri": "https://localhost:8080/"
        },
        "id": "dLwNVb4p7v0V",
        "outputId": "22e3b066-0417-4fe1-996a-a66657dea3bf"
      },
      "execution_count": 20,
      "outputs": [
        {
          "output_type": "execute_result",
          "data": {
            "text/plain": [
              "2.718281828459045"
            ]
          },
          "metadata": {},
          "execution_count": 20
        }
      ]
    },
    {
      "cell_type": "markdown",
      "source": [
        "\n",
        "**Solución:**\n",
        "\n",
        "\n",
        "El valor deseado se alcanza con la primera potencia de 10, es decir 10."
      ],
      "metadata": {
        "id": "TmXTAQxiBOv_"
      }
    },
    {
      "cell_type": "markdown",
      "source": [
        "#c.)"
      ],
      "metadata": {
        "id": "qAp52Z9InGBC"
      }
    },
    {
      "cell_type": "code",
      "source": [
        "def calculate_polynomial(matrix):\n",
        "  '''\n",
        "  Esta funcion realiza el calculo del polinomio caracteristico para la matriz cuadrada\n",
        "\n",
        "  Parametros de entrada:\n",
        "    matrix (numpy.ndarray): Matriz cuadrada\n",
        "\n",
        "  Retorna:\n",
        "  numpy.ndarray: Descripción del valor retornado\n",
        "\n",
        "  '''\n",
        "  # Se calcula los eigenvalores de la matriz de entrada\n",
        "  eigenvalores = np.linalg.eigvals(matrix)\n",
        "\n",
        "  # Se retorna los eigenvalores de la matriz\n",
        "  return eigenvalores"
      ],
      "metadata": {
        "id": "TFmdlHP0ydgz"
      },
      "execution_count": 21,
      "outputs": []
    },
    {
      "cell_type": "code",
      "source": [
        "# Implementación de la matriz cuadrada\n",
        "matriz = np.array([[2, 1, 1],\n",
        "                    [4, 3, 2],\n",
        "                    [1, 1, 2]])\n",
        "\n",
        "vals = calculate_polynomial(matriz)\n",
        "print(np.round(vals,2))"
      ],
      "metadata": {
        "colab": {
          "base_uri": "https://localhost:8080/"
        },
        "id": "XLjUpx8S5lDj",
        "outputId": "88cd2d41-9276-45f2-caab-88369af1cef8"
      },
      "execution_count": 22,
      "outputs": [
        {
          "output_type": "stream",
          "name": "stdout",
          "text": [
            "[5.45 0.55 1.  ]\n"
          ]
        }
      ]
    },
    {
      "cell_type": "markdown",
      "source": [
        "Luego de obtener los eigenvalores para lambda λ, se realiza el calculo:\n",
        "\n",
        "(λ - 5.45)(λ - 0.550)(λ - 1) = 0\n",
        "\n",
        "\n",
        "**Solución:**\n",
        "\n",
        "λ³ - 7.000 λ² + 8.977 λ - 2.997 = 0"
      ],
      "metadata": {
        "id": "9oW3KJpO5-tT"
      }
    }
  ]
}